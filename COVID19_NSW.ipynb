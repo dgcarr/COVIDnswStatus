{
  "nbformat": 4,
  "nbformat_minor": 0,
  "metadata": {
    "colab": {
      "name": "COVID19_NSW.ipynb",
      "provenance": [],
      "collapsed_sections": [],
      "authorship_tag": "ABX9TyOHxRqpUOSI2lKxpap8ESd5"
    },
    "kernelspec": {
      "name": "python3",
      "display_name": "Python 3"
    }
  },
  "cells": [
    {
      "cell_type": "markdown",
      "metadata": {
        "id": "wv1weDg4qsXe",
        "colab_type": "text"
      },
      "source": [
        "# COVID-19 - NSW Current Infections\n",
        "\n",
        "---\n",
        "\n",
        "\n",
        "\n",
        "***Data Source: https://www.health.nsw.gov.au/Infectious/diseases/Pages/covid-19-latest.aspx***"
      ]
    },
    {
      "cell_type": "code",
      "metadata": {
        "id": "2DbHaPFmCc7I",
        "colab_type": "code",
        "colab": {}
      },
      "source": [
        "import numpy as np\n",
        "import matplotlib.pyplot as plt\n",
        "import pandas as pd"
      ],
      "execution_count": 0,
      "outputs": []
    },
    {
      "cell_type": "markdown",
      "metadata": {
        "id": "lV-LDkq70-zF",
        "colab_type": "text"
      },
      "source": [
        "## Load Database"
      ]
    },
    {
      "cell_type": "code",
      "metadata": {
        "id": "XoTfxNEmKAKl",
        "colab_type": "code",
        "outputId": "bc9f5426-4a5e-4251-a766-963f7b5e5c00",
        "colab": {
          "base_uri": "https://localhost:8080/",
          "height": 36
        }
      },
      "source": [
        "# Load csv archive data from github repo\n",
        "path='https://raw.githubusercontent.com/dgcarr/COVIDnswStatus/master/NSW_HealthData.csv'\n",
        "df=pd.read_csv(path, index_col=0)\n",
        "df['Date'] = pd.to_datetime(df['Date'],dayfirst=True)\n",
        "#df\n",
        "\n",
        "from datetime import date\n",
        "\n",
        "today = date.today()\n",
        "# dd/mm/YY\n",
        "currentdate = today.strftime(\"%d/%m/%Y\")\n",
        "print('Current date is:', currentdate)\n",
        "\n"
      ],
      "execution_count": 8,
      "outputs": [
        {
          "output_type": "stream",
          "text": [
            "Current date is: 02/04/2020\n"
          ],
          "name": "stdout"
        }
      ]
    },
    {
      "cell_type": "markdown",
      "metadata": {
        "id": "9Fu6qY1exT1i",
        "colab_type": "text"
      },
      "source": [
        "### Scrape NSW Health Website for latest data"
      ]
    },
    {
      "cell_type": "code",
      "metadata": {
        "id": "ah1L7YCG8-mh",
        "colab_type": "code",
        "outputId": "b9e20e85-afc7-4c22-e1db-8caa17987cfd",
        "colab": {
          "base_uri": "https://localhost:8080/",
          "height": 1000
        }
      },
      "source": [
        "dfall = pd.read_html('https://www.health.nsw.gov.au/Infectious/diseases/Pages/covid-19-latest.aspx', flavor='html5lib')\n",
        "dfall"
      ],
      "execution_count": 9,
      "outputs": [
        {
          "output_type": "execute_result",
          "data": {
            "text/plain": [
              "[                         Cases   Count\n",
              " 0      Total confirmed cases 1    2298\n",
              " 1  Cases tested and excluded 2  108239\n",
              " 2                        Total  110537,                         Status  Cases\n",
              " 0        Total confirmed cases   2298\n",
              " 1  ​People tested on 31/3/2020   5314\n",
              " 2                 Total deaths     10,    Age group  Female  Male  Total\n",
              " 0        0-9       8     8     16\n",
              " 1      10-19      37    33     70\n",
              " 2      20-29     287   215    502\n",
              " 3      30-39     181   179    360\n",
              " 4      40-49     123   172    295\n",
              " 5      50-59     183   177    360\n",
              " 6      60-69     184   173    357\n",
              " 7      70-79     118   130    248\n",
              " 8      80-89      33    37     70\n",
              " 9     90-100       9    10     19\n",
              " 10     Total    1163  1134   2297,                                               Source  Cases\n",
              " 0                                  Overseas acquired   1419\n",
              " 1  Locally acquired – contact of a confirmed case...    467\n",
              " 2          Locally acquired – contact not identified    307\n",
              " 3                                Under investigation    105\n",
              " 4                                              Total   2298,                        LHD  ...  Tests per  100,000 residents\n",
              " 0    South Eastern  Sydney  ...                       1715.05\n",
              " 1          Northern Sydney  ...                       1794.82\n",
              " 2            Central Coast  ...                       1213.22\n",
              " 3      Hunter New  England  ...                       1125.49\n",
              " 4                   Sydney  ...                       1411.37\n",
              " 5   Nepean Blue  Mountains  ...                       1474.47\n",
              " 6             Southern NSW  ...                        863.31\n",
              " 7    Illawarra  Shoalhaven  ...                       1235.90\n",
              " 8           Western Sydney  ...                       1255.23\n",
              " 9          Mid North Coast  ...                       1122.46\n",
              " 10   South Western  Sydney  ...                       1159.81\n",
              " 11            Northern NSW  ...                        742.36\n",
              " 12             Western NSW  ...                        791.55\n",
              " 13            Murrumbidgee  ...                        564.22\n",
              " 14                Far West  ...                        587.18\n",
              " 15               NSW Total  ...                       1350.32\n",
              " \n",
              " [16 rows x 6 columns],                               Name  ... Local transmission?\n",
              " 0            Stanwell Tops Wedding  ...                 Yes\n",
              " 1         Boogie Wonderland Party​  ...                 Yes\n",
              " 2          Dorothy Henderson Lodge  ...                 Yes\n",
              " 3                   Church meeting  ...                 Yes\n",
              " 4        Bondi Hardware Restaurant  ...                 Yes\n",
              " 5         Rose of Sharon Childcare  ...                 Yes\n",
              " 6         Opal Aged Care Bankstown  ...                 Yes\n",
              " 7   Normanhurst West Public School  ...                 Yes\n",
              " 8       St Andrews’ Church Wedding  ...                 Yes\n",
              " 9                 Rugby tournament  ...                 Yes\n",
              " 10                Pokolbin Wedding  ...                 Yes\n",
              " \n",
              " [11 rows x 6 columns]]"
            ]
          },
          "metadata": {
            "tags": []
          },
          "execution_count": 9
        }
      ]
    },
    {
      "cell_type": "code",
      "metadata": {
        "id": "Y0mtOLX-B9TJ",
        "colab_type": "code",
        "outputId": "eb268eba-0006-4a81-a860-ef5c61068b44",
        "colab": {
          "base_uri": "https://localhost:8080/",
          "height": 262
        }
      },
      "source": [
        "dforigins = pd.read_html('https://www.health.nsw.gov.au/Infectious/diseases/Pages/covid-19-latest.aspx',match='Source',header=0)\n",
        "dforigins=dforigins[0]\n",
        "\n",
        "dforigins['Source'] = dforigins['Source'].str.replace('\\d+', '')\n",
        "\n",
        "\n",
        "if dforigins['Cases'].dtypes =='object':\n",
        "  print(dforigins['Cases'].dtypes)\n",
        "  dforigins['Cases'] = dforigins['Cases'].str.replace(u'\\u200b', '')\n",
        "  dforigins['Cases'] = dforigins['Cases'].str.replace(',', '')\n",
        "  dforigins['Cases'] = dforigins['Cases'].apply(pd.to_numeric)\n",
        "\n",
        "\n",
        "nc=dforigins.loc[dforigins['Source'] == 'Total','Cases'].values[0]\n",
        "#nc=nc[0]\n",
        "print(nc)\n",
        "\n",
        "ui = dforigins.loc[dforigins['Source'] == 'Under investigation','Cases'].values[0]\n",
        "print(ui)\n",
        "\n",
        "un = dforigins.loc[dforigins['Source'] == 'Locally acquired – contact not identified','Cases'].values[0]\n",
        "print(un)\n",
        "\n",
        "ui_un=ui+un\n",
        "#print(ui_un)\n",
        "dforigins"
      ],
      "execution_count": 10,
      "outputs": [
        {
          "output_type": "stream",
          "text": [
            "2298\n",
            "105\n",
            "307\n"
          ],
          "name": "stdout"
        },
        {
          "output_type": "execute_result",
          "data": {
            "text/html": [
              "<div>\n",
              "<style scoped>\n",
              "    .dataframe tbody tr th:only-of-type {\n",
              "        vertical-align: middle;\n",
              "    }\n",
              "\n",
              "    .dataframe tbody tr th {\n",
              "        vertical-align: top;\n",
              "    }\n",
              "\n",
              "    .dataframe thead th {\n",
              "        text-align: right;\n",
              "    }\n",
              "</style>\n",
              "<table border=\"1\" class=\"dataframe\">\n",
              "  <thead>\n",
              "    <tr style=\"text-align: right;\">\n",
              "      <th></th>\n",
              "      <th>Source</th>\n",
              "      <th>Cases</th>\n",
              "    </tr>\n",
              "  </thead>\n",
              "  <tbody>\n",
              "    <tr>\n",
              "      <th>0</th>\n",
              "      <td>Overseas acquired</td>\n",
              "      <td>1419</td>\n",
              "    </tr>\n",
              "    <tr>\n",
              "      <th>1</th>\n",
              "      <td>Locally acquired – contact of a confirmed case...</td>\n",
              "      <td>467</td>\n",
              "    </tr>\n",
              "    <tr>\n",
              "      <th>2</th>\n",
              "      <td>Locally acquired – contact not identified</td>\n",
              "      <td>307</td>\n",
              "    </tr>\n",
              "    <tr>\n",
              "      <th>3</th>\n",
              "      <td>Under investigation</td>\n",
              "      <td>105</td>\n",
              "    </tr>\n",
              "    <tr>\n",
              "      <th>4</th>\n",
              "      <td>Total</td>\n",
              "      <td>2298</td>\n",
              "    </tr>\n",
              "  </tbody>\n",
              "</table>\n",
              "</div>"
            ],
            "text/plain": [
              "                                              Source  Cases\n",
              "0                                  Overseas acquired   1419\n",
              "1  Locally acquired – contact of a confirmed case...    467\n",
              "2          Locally acquired – contact not identified    307\n",
              "3                                Under investigation    105\n",
              "4                                              Total   2298"
            ]
          },
          "metadata": {
            "tags": []
          },
          "execution_count": 10
        }
      ]
    },
    {
      "cell_type": "code",
      "metadata": {
        "id": "_641V1381xib",
        "colab_type": "code",
        "outputId": "5af07a38-a765-4296-8968-ebeb0e27f38c",
        "colab": {
          "base_uri": "https://localhost:8080/",
          "height": 162
        }
      },
      "source": [
        "dfnew = pd.read_html('https://www.health.nsw.gov.au/Infectious/diseases/Pages/covid-19-latest.aspx',match='Cases',header=0)\n",
        "dfnew=dfnew[0]\n",
        "\n",
        "dfnew['Cases'] = dfnew['Cases'].str.replace('\\d*', '')\n",
        "\n",
        "if dforigins['Cases'].dtypes =='object':\n",
        "  dfnew['Count'] = dfnew['Count'].str.replace(u'\\u200b', '')\n",
        "  dfnew['Count'] = dfnew['Count'].str.replace(',', '')\n",
        "  dfnew['Count'] = dfnew['Count'].apply(pd.to_numeric)\n",
        "\n",
        "#tc=dfnew.loc[dfnew['Cases'] == 'Cases tested and excluded','Count'].values\n",
        "#tc=dfnew.loc[dfnew['Cases'] == 'Cases tested and excluded','Count'].values[0]\n",
        "tc=dfnew['Count'][1]\n",
        "print(tc)\n",
        "\n",
        "dfnew"
      ],
      "execution_count": 11,
      "outputs": [
        {
          "output_type": "stream",
          "text": [
            "108239\n"
          ],
          "name": "stdout"
        },
        {
          "output_type": "execute_result",
          "data": {
            "text/html": [
              "<div>\n",
              "<style scoped>\n",
              "    .dataframe tbody tr th:only-of-type {\n",
              "        vertical-align: middle;\n",
              "    }\n",
              "\n",
              "    .dataframe tbody tr th {\n",
              "        vertical-align: top;\n",
              "    }\n",
              "\n",
              "    .dataframe thead th {\n",
              "        text-align: right;\n",
              "    }\n",
              "</style>\n",
              "<table border=\"1\" class=\"dataframe\">\n",
              "  <thead>\n",
              "    <tr style=\"text-align: right;\">\n",
              "      <th></th>\n",
              "      <th>Cases</th>\n",
              "      <th>Count</th>\n",
              "    </tr>\n",
              "  </thead>\n",
              "  <tbody>\n",
              "    <tr>\n",
              "      <th>0</th>\n",
              "      <td>Total confirmed cases</td>\n",
              "      <td>2298</td>\n",
              "    </tr>\n",
              "    <tr>\n",
              "      <th>1</th>\n",
              "      <td>Cases tested and excluded</td>\n",
              "      <td>108239</td>\n",
              "    </tr>\n",
              "    <tr>\n",
              "      <th>2</th>\n",
              "      <td>Total</td>\n",
              "      <td>110537</td>\n",
              "    </tr>\n",
              "  </tbody>\n",
              "</table>\n",
              "</div>"
            ],
            "text/plain": [
              "                        Cases   Count\n",
              "0      Total confirmed cases     2298\n",
              "1  Cases tested and excluded   108239\n",
              "2                       Total  110537"
            ]
          },
          "metadata": {
            "tags": []
          },
          "execution_count": 11
        }
      ]
    },
    {
      "cell_type": "code",
      "metadata": {
        "id": "9XMVlJd70HAj",
        "colab_type": "code",
        "outputId": "2783919c-cbb5-4813-cd04-a852eb949b9d",
        "colab": {
          "base_uri": "https://localhost:8080/",
          "height": 162
        }
      },
      "source": [
        "dfstatus = pd.read_html('https://www.health.nsw.gov.au/Infectious/diseases/Pages/covid-19-latest.aspx',match='Status',header=0)\n",
        "dfstatus=dfstatus[0]\n",
        "if dfstatus['Cases'].dtypes =='object':\n",
        "  dfstatus['Cases'] = dfstatus['Cases'].str.replace(u'\\u200b', '')\n",
        "  dfstatus['Cases'] = dfstatus['Cases'].str.replace(',', '')\n",
        "  dfstatus['Cases'] = dfstatus['Cases'].apply(pd.to_numeric)\n",
        "#print(dfstatus)\n",
        "deaths=dfstatus.loc[dfstatus['Status'] == 'Total deaths','Cases'].values[0]\n",
        "print(deaths)\n",
        "dfstatus"
      ],
      "execution_count": 12,
      "outputs": [
        {
          "output_type": "stream",
          "text": [
            "10\n"
          ],
          "name": "stdout"
        },
        {
          "output_type": "execute_result",
          "data": {
            "text/html": [
              "<div>\n",
              "<style scoped>\n",
              "    .dataframe tbody tr th:only-of-type {\n",
              "        vertical-align: middle;\n",
              "    }\n",
              "\n",
              "    .dataframe tbody tr th {\n",
              "        vertical-align: top;\n",
              "    }\n",
              "\n",
              "    .dataframe thead th {\n",
              "        text-align: right;\n",
              "    }\n",
              "</style>\n",
              "<table border=\"1\" class=\"dataframe\">\n",
              "  <thead>\n",
              "    <tr style=\"text-align: right;\">\n",
              "      <th></th>\n",
              "      <th>Status</th>\n",
              "      <th>Cases</th>\n",
              "    </tr>\n",
              "  </thead>\n",
              "  <tbody>\n",
              "    <tr>\n",
              "      <th>0</th>\n",
              "      <td>Total confirmed cases</td>\n",
              "      <td>2298</td>\n",
              "    </tr>\n",
              "    <tr>\n",
              "      <th>1</th>\n",
              "      <td>​People tested on 31/3/2020</td>\n",
              "      <td>5314</td>\n",
              "    </tr>\n",
              "    <tr>\n",
              "      <th>2</th>\n",
              "      <td>Total deaths</td>\n",
              "      <td>10</td>\n",
              "    </tr>\n",
              "  </tbody>\n",
              "</table>\n",
              "</div>"
            ],
            "text/plain": [
              "                        Status  Cases\n",
              "0        Total confirmed cases   2298\n",
              "1  ​People tested on 31/3/2020   5314\n",
              "2                 Total deaths     10"
            ]
          },
          "metadata": {
            "tags": []
          },
          "execution_count": 12
        }
      ]
    },
    {
      "cell_type": "code",
      "metadata": {
        "id": "oDhZzk_mq9Na",
        "colab_type": "code",
        "outputId": "99039ad4-b3a0-4259-8dea-e6301c463801",
        "colab": {
          "base_uri": "https://localhost:8080/",
          "height": 570
        }
      },
      "source": [
        "dfage=pd.read_html('https://www.health.nsw.gov.au/Infectious/diseases/Pages/covid-19-latest.aspx',match='Age group',header=0, index_col='Age group')[0]\n",
        "\n",
        "dfage=dfage[:-1]\n",
        "\n",
        "ax = dfage.plot.bar(y=['Male','Female'],figsize=(10,9), rot=0,title='NSW Demographic Affected', fontsize=12)\n",
        "\n",
        "#percentage of NSW population affected\n",
        "pctNSW=((nc)/7.544e6) * 100\n",
        "tx=ax.annotate('Only '+str(round(pctNSW,3))+'% of the population of NSW is affected',(0.1,10),family='sans-serif', fontsize=18, color='c')\n"
      ],
      "execution_count": 13,
      "outputs": [
        {
          "output_type": "display_data",
          "data": {
            "image/png": "[encoded data removed]",
            "text/plain": [
              "<Figure size 720x648 with 1 Axes>"
            ]
          },
          "metadata": {
            "tags": []
          }
        }
      ]
    },
    {
      "cell_type": "markdown",
      "metadata": {
        "id": "0YlQJOsbxaue",
        "colab_type": "text"
      },
      "source": [
        "### Update database"
      ]
    },
    {
      "cell_type": "code",
      "metadata": {
        "id": "670BT4v1WJ-d",
        "colab_type": "code",
        "outputId": "57649273-dcf2-48fc-b9ca-0316e2c5eeb3",
        "colab": {
          "base_uri": "https://localhost:8080/",
          "height": 865
        }
      },
      "source": [
        "dfnew=pd.DataFrame({'Date':[currentdate] ,\n",
        "                    'Confirmed Cases':[nc],\n",
        "                    'Tested and Cleared':[tc],\n",
        "                    'Unexplained Origin':[ui_un],\n",
        "                    'Deaths':[deaths]})\n",
        "dfnew['Date'] = pd.to_datetime(dfnew['Date'],dayfirst=True)\n",
        "dfapp=df.append(dfnew,ignore_index=True,)\n",
        "\n",
        "if dfnew['Date'].iloc[-1]>df['Date'].iloc[-1]:\n",
        "         df=dfapp\n",
        "df\n"
      ],
      "execution_count": 14,
      "outputs": [
        {
          "output_type": "execute_result",
          "data": {
            "text/html": [
              "<div>\n",
              "<style scoped>\n",
              "    .dataframe tbody tr th:only-of-type {\n",
              "        vertical-align: middle;\n",
              "    }\n",
              "\n",
              "    .dataframe tbody tr th {\n",
              "        vertical-align: top;\n",
              "    }\n",
              "\n",
              "    .dataframe thead th {\n",
              "        text-align: right;\n",
              "    }\n",
              "</style>\n",
              "<table border=\"1\" class=\"dataframe\">\n",
              "  <thead>\n",
              "    <tr style=\"text-align: right;\">\n",
              "      <th></th>\n",
              "      <th>Date</th>\n",
              "      <th>Confirmed Cases</th>\n",
              "      <th>Tested and Cleared</th>\n",
              "      <th>Unexplained Origin</th>\n",
              "      <th>Deaths</th>\n",
              "    </tr>\n",
              "  </thead>\n",
              "  <tbody>\n",
              "    <tr>\n",
              "      <th>0</th>\n",
              "      <td>2020-02-26</td>\n",
              "      <td>4</td>\n",
              "      <td>2267</td>\n",
              "      <td>0</td>\n",
              "      <td>5</td>\n",
              "    </tr>\n",
              "    <tr>\n",
              "      <th>1</th>\n",
              "      <td>2020-03-07</td>\n",
              "      <td>34</td>\n",
              "      <td>6217</td>\n",
              "      <td>0</td>\n",
              "      <td>5</td>\n",
              "    </tr>\n",
              "    <tr>\n",
              "      <th>2</th>\n",
              "      <td>2020-03-08</td>\n",
              "      <td>40</td>\n",
              "      <td>7361</td>\n",
              "      <td>0</td>\n",
              "      <td>5</td>\n",
              "    </tr>\n",
              "    <tr>\n",
              "      <th>3</th>\n",
              "      <td>2020-03-09</td>\n",
              "      <td>47</td>\n",
              "      <td>7848</td>\n",
              "      <td>0</td>\n",
              "      <td>5</td>\n",
              "    </tr>\n",
              "    <tr>\n",
              "      <th>4</th>\n",
              "      <td>2020-03-10</td>\n",
              "      <td>61</td>\n",
              "      <td>9096</td>\n",
              "      <td>0</td>\n",
              "      <td>5</td>\n",
              "    </tr>\n",
              "    <tr>\n",
              "      <th>5</th>\n",
              "      <td>2020-03-11</td>\n",
              "      <td>65</td>\n",
              "      <td>9152</td>\n",
              "      <td>0</td>\n",
              "      <td>5</td>\n",
              "    </tr>\n",
              "    <tr>\n",
              "      <th>6</th>\n",
              "      <td>2020-03-12</td>\n",
              "      <td>78</td>\n",
              "      <td>11040</td>\n",
              "      <td>0</td>\n",
              "      <td>5</td>\n",
              "    </tr>\n",
              "    <tr>\n",
              "      <th>7</th>\n",
              "      <td>2020-03-13</td>\n",
              "      <td>92</td>\n",
              "      <td>14665</td>\n",
              "      <td>5</td>\n",
              "      <td>5</td>\n",
              "    </tr>\n",
              "    <tr>\n",
              "      <th>8</th>\n",
              "      <td>2020-03-14</td>\n",
              "      <td>112</td>\n",
              "      <td>18716</td>\n",
              "      <td>29</td>\n",
              "      <td>5</td>\n",
              "    </tr>\n",
              "    <tr>\n",
              "      <th>9</th>\n",
              "      <td>2020-03-15</td>\n",
              "      <td>134</td>\n",
              "      <td>20511</td>\n",
              "      <td>36</td>\n",
              "      <td>5</td>\n",
              "    </tr>\n",
              "    <tr>\n",
              "      <th>10</th>\n",
              "      <td>2020-03-16</td>\n",
              "      <td>171</td>\n",
              "      <td>25511</td>\n",
              "      <td>60</td>\n",
              "      <td>5</td>\n",
              "    </tr>\n",
              "    <tr>\n",
              "      <th>11</th>\n",
              "      <td>2020-03-17</td>\n",
              "      <td>210</td>\n",
              "      <td>28552</td>\n",
              "      <td>66</td>\n",
              "      <td>5</td>\n",
              "    </tr>\n",
              "    <tr>\n",
              "      <th>12</th>\n",
              "      <td>2020-03-18</td>\n",
              "      <td>267</td>\n",
              "      <td>33387</td>\n",
              "      <td>90</td>\n",
              "      <td>5</td>\n",
              "    </tr>\n",
              "    <tr>\n",
              "      <th>13</th>\n",
              "      <td>2020-03-19</td>\n",
              "      <td>307</td>\n",
              "      <td>38782</td>\n",
              "      <td>116</td>\n",
              "      <td>5</td>\n",
              "    </tr>\n",
              "    <tr>\n",
              "      <th>14</th>\n",
              "      <td>2020-03-20</td>\n",
              "      <td>436</td>\n",
              "      <td>46892</td>\n",
              "      <td>126</td>\n",
              "      <td>6</td>\n",
              "    </tr>\n",
              "    <tr>\n",
              "      <th>15</th>\n",
              "      <td>2020-03-21</td>\n",
              "      <td>533</td>\n",
              "      <td>52663</td>\n",
              "      <td>151</td>\n",
              "      <td>6</td>\n",
              "    </tr>\n",
              "    <tr>\n",
              "      <th>16</th>\n",
              "      <td>2020-03-22</td>\n",
              "      <td>669</td>\n",
              "      <td>56272</td>\n",
              "      <td>187</td>\n",
              "      <td>6</td>\n",
              "    </tr>\n",
              "    <tr>\n",
              "      <th>17</th>\n",
              "      <td>2020-03-23</td>\n",
              "      <td>818</td>\n",
              "      <td>61848</td>\n",
              "      <td>219</td>\n",
              "      <td>7</td>\n",
              "    </tr>\n",
              "    <tr>\n",
              "      <th>18</th>\n",
              "      <td>2020-03-24</td>\n",
              "      <td>1029</td>\n",
              "      <td>68177</td>\n",
              "      <td>353</td>\n",
              "      <td>7</td>\n",
              "    </tr>\n",
              "    <tr>\n",
              "      <th>19</th>\n",
              "      <td>2020-03-25</td>\n",
              "      <td>1219</td>\n",
              "      <td>74006</td>\n",
              "      <td>351</td>\n",
              "      <td>7</td>\n",
              "    </tr>\n",
              "    <tr>\n",
              "      <th>20</th>\n",
              "      <td>2020-03-26</td>\n",
              "      <td>1405</td>\n",
              "      <td>77689</td>\n",
              "      <td>250</td>\n",
              "      <td>7</td>\n",
              "    </tr>\n",
              "    <tr>\n",
              "      <th>21</th>\n",
              "      <td>2020-03-28</td>\n",
              "      <td>1617</td>\n",
              "      <td>86524</td>\n",
              "      <td>297</td>\n",
              "      <td>7</td>\n",
              "    </tr>\n",
              "    <tr>\n",
              "      <th>22</th>\n",
              "      <td>2020-03-29</td>\n",
              "      <td>1617</td>\n",
              "      <td>84907</td>\n",
              "      <td>297</td>\n",
              "      <td>7</td>\n",
              "    </tr>\n",
              "    <tr>\n",
              "      <th>23</th>\n",
              "      <td>2020-03-31</td>\n",
              "      <td>2032</td>\n",
              "      <td>97919</td>\n",
              "      <td>321</td>\n",
              "      <td>8</td>\n",
              "    </tr>\n",
              "    <tr>\n",
              "      <th>24</th>\n",
              "      <td>2020-04-01</td>\n",
              "      <td>2182</td>\n",
              "      <td>103361</td>\n",
              "      <td>395</td>\n",
              "      <td>8</td>\n",
              "    </tr>\n",
              "    <tr>\n",
              "      <th>25</th>\n",
              "      <td>2020-04-02</td>\n",
              "      <td>2298</td>\n",
              "      <td>108239</td>\n",
              "      <td>412</td>\n",
              "      <td>10</td>\n",
              "    </tr>\n",
              "  </tbody>\n",
              "</table>\n",
              "</div>"
            ],
            "text/plain": [
              "         Date  Confirmed Cases  Tested and Cleared  Unexplained Origin  Deaths\n",
              "0  2020-02-26                4                2267                   0       5\n",
              "1  2020-03-07               34                6217                   0       5\n",
              "2  2020-03-08               40                7361                   0       5\n",
              "3  2020-03-09               47                7848                   0       5\n",
              "4  2020-03-10               61                9096                   0       5\n",
              "5  2020-03-11               65                9152                   0       5\n",
              "6  2020-03-12               78               11040                   0       5\n",
              "7  2020-03-13               92               14665                   5       5\n",
              "8  2020-03-14              112               18716                  29       5\n",
              "9  2020-03-15              134               20511                  36       5\n",
              "10 2020-03-16              171               25511                  60       5\n",
              "11 2020-03-17              210               28552                  66       5\n",
              "12 2020-03-18              267               33387                  90       5\n",
              "13 2020-03-19              307               38782                 116       5\n",
              "14 2020-03-20              436               46892                 126       6\n",
              "15 2020-03-21              533               52663                 151       6\n",
              "16 2020-03-22              669               56272                 187       6\n",
              "17 2020-03-23              818               61848                 219       7\n",
              "18 2020-03-24             1029               68177                 353       7\n",
              "19 2020-03-25             1219               74006                 351       7\n",
              "20 2020-03-26             1405               77689                 250       7\n",
              "21 2020-03-28             1617               86524                 297       7\n",
              "22 2020-03-29             1617               84907                 297       7\n",
              "23 2020-03-31             2032               97919                 321       8\n",
              "24 2020-04-01             2182              103361                 395       8\n",
              "25 2020-04-02             2298              108239                 412      10"
            ]
          },
          "metadata": {
            "tags": []
          },
          "execution_count": 14
        }
      ]
    },
    {
      "cell_type": "code",
      "metadata": {
        "id": "7_xDH-33bG3n",
        "colab_type": "code",
        "colab": {
          "base_uri": "https://localhost:8080/",
          "height": 802
        },
        "outputId": "36624135-ab35-4a98-e5eb-8be28057617b"
      },
      "source": [
        "!git\n",
        "#df.to_csv(path)"
      ],
      "execution_count": 16,
      "outputs": [
        {
          "output_type": "stream",
          "text": [
            "usage: git [--version] [--help] [-C <path>] [-c <name>=<value>]\n",
            "           [--exec-path[=<path>]] [--html-path] [--man-path] [--info-path]\n",
            "           [-p | --paginate | --no-pager] [--no-replace-objects] [--bare]\n",
            "           [--git-dir=<path>] [--work-tree=<path>] [--namespace=<name>]\n",
            "           <command> [<args>]\n",
            "\n",
            "These are common Git commands used in various situations:\n",
            "\n",
            "start a working area (see also: git help tutorial)\n",
            "   clone      Clone a repository into a new directory\n",
            "   init       Create an empty Git repository or reinitialize an existing one\n",
            "\n",
            "work on the current change (see also: git help everyday)\n",
            "   add        Add file contents to the index\n",
            "   mv         Move or rename a file, a directory, or a symlink\n",
            "   reset      Reset current HEAD to the specified state\n",
            "   rm         Remove files from the working tree and from the index\n",
            "\n",
            "examine the history and state (see also: git help revisions)\n",
            "   bisect     Use binary search to find the commit that introduced a bug\n",
            "   grep       Print lines matching a pattern\n",
            "   log        Show commit logs\n",
            "   show       Show various types of objects\n",
            "   status     Show the working tree status\n",
            "\n",
            "grow, mark and tweak your common history\n",
            "   branch     List, create, or delete branches\n",
            "   checkout   Switch branches or restore working tree files\n",
            "   commit     Record changes to the repository\n",
            "   diff       Show changes between commits, commit and working tree, etc\n",
            "   merge      Join two or more development histories together\n",
            "   rebase     Reapply commits on top of another base tip\n",
            "   tag        Create, list, delete or verify a tag object signed with GPG\n",
            "\n",
            "collaborate (see also: git help workflows)\n",
            "   fetch      Download objects and refs from another repository\n",
            "   pull       Fetch from and integrate with another repository or a local branch\n",
            "   push       Update remote refs along with associated objects\n",
            "\n",
            "'git help -a' and 'git help -g' list available subcommands and some\n",
            "concept guides. See 'git help <command>' or 'git help <concept>'\n",
            "to read about a specific subcommand or concept.\n"
          ],
          "name": "stdout"
        }
      ]
    },
    {
      "cell_type": "markdown",
      "metadata": {
        "id": "gfTcxomWqvXf",
        "colab_type": "text"
      },
      "source": [
        "## NSW Heat Map\n",
        "<img src=\"https://www.health.nsw.gov.au/Infectious/diseases/PublishingImages/covid-19-lga-nsw-unknown.png\" height=\"300\" />;  <img src=\"https://www.health.nsw.gov.au/Infectious/diseases/PublishingImages/covid-19-lga-sydney-unknown.png\" height=\"300\" />"
      ]
    },
    {
      "cell_type": "code",
      "metadata": {
        "id": "AUn25HnMlAh0",
        "colab_type": "code",
        "colab": {}
      },
      "source": [
        "#from pandas.plotting import register_matplotlib_converters\n",
        "from mpl_toolkits.axisartist.parasite_axes import HostAxes, ParasiteAxes\n",
        "#register_matplotlib_converters()\n",
        "\n",
        "#fig = plt.figure()\n",
        "fig = plt.figure(figsize=(12,10))\n",
        "\n",
        "host = HostAxes(fig, [0.15, 0.1, 0.65, 0.8])\n",
        "#plt.xticks(rotation=70)\n",
        "par1 = ParasiteAxes(host, sharex=host)\n",
        "par2 = ParasiteAxes(host, sharex=host)\n",
        "host.parasites.append(par1)\n",
        "host.parasites.append(par2)\n",
        "\n",
        "host.axis[\"right\"].set_visible(False)\n",
        "par1.axis[\"right\"].set_visible(True)\n",
        "\n",
        "par1.axis[\"right\"].major_ticklabels.set_visible(True)\n",
        "par1.axis[\"right\"].label.set_visible(True)\n",
        "\n",
        "par2.set_ylabel(\"Confirmed Cases\")\n",
        "offset = (60, 0)\n",
        "new_axisline = par2.get_grid_helper().new_fixed_axis\n",
        "par2.axis[\"right2\"] = new_axisline(loc=\"right\", axes=par2, offset=offset)\n",
        "\n",
        "\n",
        "\n",
        "fig.add_axes(host)\n",
        "\n",
        "host.set_ylim(0, 0.1)\n",
        "\n",
        "host.set_xlabel(\"Date\")\n",
        "host.set_ylabel(\"Infections/Population Tested [%]\")\n",
        "par1.set_ylabel(\"Fraction of Suspected Community Acquired Infections [%]\")\n",
        "\n",
        "p1, = host.plot(df['Date'], df['Confirmed Cases']/(df['Tested and Cleared']+df['Confirmed Cases']*100),'-o', label=\"Infections/Tested Population\")\n",
        "p2, = par1.plot(df['Date'], df['Unexplained Origin']/df['Confirmed Cases']*100,'-o', label=\"Fraction Suspected Community Acquired Infections\")\n",
        "p3, = par2.plot(df['Date'], df['Confirmed Cases'],'-o',label=\"Confirmed Cases\")\n",
        "\n",
        "par1.set_ylim(0, 100)\n",
        "# par2.set_ylim(1, 65)\n",
        "\n",
        "#host.legend()\n",
        "\n",
        "host.axis[\"left\"].label.set_color(p1.get_color())\n",
        "par1.axis[\"right\"].label.set_color(p2.get_color())\n",
        "par2.axis[\"right2\"].label.set_color(p3.get_color())\n",
        "\n",
        "\n",
        "fig.autofmt_xdate(bottom=0.5, rotation=30)\n",
        "\n",
        "\n",
        "plt.title('NSW Health COVID-19 Situation as of ' +str(currentdate),fontsize=18 )\n",
        "\n",
        "plt.show()\n",
        "\n"
      ],
      "execution_count": 0,
      "outputs": []
    },
    {
      "cell_type": "code",
      "metadata": {
        "id": "_6WCJCR2mvqC",
        "colab_type": "code",
        "colab": {}
      },
      "source": [
        "from sklearn import linear_model\n",
        "from sklearn.metrics import mean_squared_error, r2_score\n",
        "last3 = df['Confirmed Cases'].tail(3).values\n",
        "Y = np.log10(last3)\n",
        "X = np.arange(1, 4, dtype=float)\n",
        "X=X.reshape(-1,1)\n",
        "#print(X)\n",
        "\n",
        "lm = linear_model.LinearRegression()\n",
        "model = lm.fit(X,Y)\n",
        "\n",
        "y_pred = lm.predict(X)\n",
        "lm.score(X,Y)\n",
        "\n",
        "lm.coef_\n",
        "\n",
        "# # Plot outputs\n",
        "# plt.scatter(X, Y,  color='black')\n",
        "# plt.plot(X, y_pred, color='blue', linewidth=3)\n",
        "\n",
        "# plt.xticks(())\n",
        "# plt.yticks(())\n",
        "\n",
        "# plt.show()"
      ],
      "execution_count": 0,
      "outputs": []
    }
  ]
}